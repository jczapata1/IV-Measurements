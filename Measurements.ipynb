{
 "cells": [
  {
   "cell_type": "code",
   "execution_count": null,
   "id": "5ec03629-2592-49a2-bcba-4255366aa09e",
   "metadata": {},
   "outputs": [],
   "source": [
    "from sklearn.linear_model import LinearRegression\n",
    "import matplotlib.pyplot as plt\n",
    "from datetime import datetime\n",
    "from tools import *\n",
    "import numpy as np\n",
    "import pyvisa"
   ]
  },
  {
   "cell_type": "code",
   "execution_count": null,
   "id": "0f812267-bd00-4d12-b818-e485ba0aca0e",
   "metadata": {},
   "outputs": [],
   "source": [
    "rm = pyvisa.ResourceManager()            # Resource Manager\n",
    "resource = rm.list_resources()[0]        # List Resources\n",
    "sourcemeter = rm.open_resource(resource) # Open Conection with Device\n",
    "device = sourcemeter.query('*IDN?')      # Device\n",
    "\n",
    "print(f'GPIB-USB-HS: {resource}')\n",
    "print(f'     Device: {device}')"
   ]
  },
  {
   "cell_type": "code",
   "execution_count": null,
   "id": "f81a87a1-95eb-4fe0-8b5d-de15198a90d9",
   "metadata": {},
   "outputs": [],
   "source": [
    "# Set Current\n",
    "I = current_(1.0e-7, 5.0e-6, 100)"
   ]
  },
  {
   "cell_type": "code",
   "execution_count": null,
   "id": "464bd690-2cdd-454e-aa0f-295c32247627",
   "metadata": {},
   "outputs": [],
   "source": [
    "# Mesurement\n",
    "sourcemeter.write('*RST')               # Reset Device\n",
    "sourcemeter.write('SENS:FUNC \"VOLT\"')   # Mesure --> Voltage\n",
    "sourcemeter.write('SENS:VOLT:RSEN ON')  # Set 4-Wire Mesure\n",
    "sourcemeter.write('SOUR:FUNC CURR')     # Source --> Current\n",
    "sourcemeter.write('OUTP ON')            # Turn-on Output\n",
    "V = voltage_(sourcemeter, I, delay=0.1) # Voltage\n",
    "sourcemeter.write('OUTP OFF')           # Turn-off Output\n",
    "sourcemeter.close()                     # Close Conection with Device"
   ]
  },
  {
   "cell_type": "code",
   "execution_count": null,
   "id": "6e8e0867-66ae-49e8-99ca-3038a5644df2",
   "metadata": {},
   "outputs": [],
   "source": [
    "# Resistence and Resual Voltage\n",
    "model = LinearRegression()\n",
    "model.fit(I.reshape(-1,1), V)\n",
    "\n",
    "R = model.coef_[0]    # Resistence\n",
    "V0 = model.intercept_ # Resual Voltage\n",
    "print(f' R: {R:10.4e} Ω')\n",
    "print(f'V0: {V0:10.4e} V')"
   ]
  },
  {
   "cell_type": "code",
   "execution_count": null,
   "id": "a1331e50-c92b-4154-9125-18ac14bcde9a",
   "metadata": {
    "scrolled": true
   },
   "outputs": [],
   "source": [
    "# Plot IvsV\n",
    "fig, ax = plt.subplots(1,1, figsize=(2.5,2.5))\n",
    "\n",
    "ax.scatter(1.0e6*I, 1.0e3*V, color='brown', s=1)\n",
    "ax.set_xlabel('$Current$ (μA)', fontsize=9)\n",
    "ax.set_ylabel('$Voltage$ (mV)', fontsize=9)\n",
    "ax.set_title(f'$R={R:.2f}$ Ω', fontsize=8)\n",
    "\n",
    "plt.show()"
   ]
  },
  {
   "cell_type": "code",
   "execution_count": null,
   "id": "adc43d87-364e-406f-8d5d-9d768d00abab",
   "metadata": {},
   "outputs": [],
   "source": [
    "# Save Data and Figure\n",
    "date = datetime.now().strftime('%Y-%m-%d_%H-%M-%S')\n",
    "np.savetxt(f'./Data/IvsV_{date}.txt', np.c_[I, V], header='        I (A)           V (V)', fmt=['%15.8e', '%15.8e'])\n",
    "fig.savefig(f'./Data/IvsV_{date}.pdf', dpi=300, pad_inches=0.1, bbox_inches='tight')"
   ]
  }
 ],
 "metadata": {
  "kernelspec": {
   "display_name": "Python 3 (ipykernel)",
   "language": "python",
   "name": "python3"
  },
  "language_info": {
   "codemirror_mode": {
    "name": "ipython",
    "version": 3
   },
   "file_extension": ".py",
   "mimetype": "text/x-python",
   "name": "python",
   "nbconvert_exporter": "python",
   "pygments_lexer": "ipython3",
   "version": "3.12.5"
  }
 },
 "nbformat": 4,
 "nbformat_minor": 5
}
